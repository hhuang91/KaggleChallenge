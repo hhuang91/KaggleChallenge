{
 "cells": [
  {
   "cell_type": "code",
   "execution_count": null,
   "id": "13a47a5b",
   "metadata": {},
   "outputs": [],
   "source": [
    "#%% Import Module\n",
    "import torch\n",
    "import sys\n",
    "from IPython import get_ipython\n",
    "sys.path.append('path_to_this_git')\n",
    "\n",
    "from data.dataHandler import dataLoader\n",
    "from API import TrainSegmentation, TestSegmentation, TrainClassification,TestClassification, CreateSubmission"
   ]
  },
  {
   "cell_type": "markdown",
   "id": "36b52d36",
   "metadata": {},
   "source": [
    "Train with only BP-present images "
   ]
  },
  {
   "cell_type": "code",
   "execution_count": null,
   "id": "3a27f240",
   "metadata": {},
   "outputs": [],
   "source": [
    "ipy = get_ipython()\n",
    "ipy.magic('matplotlib inline')\n",
    "TrainSegmentation('./trainingConfig.json',\n",
    "                  device = 'cuda:0',continueTrain=True,\n",
    "                  dice_bg_weight=0.5)"
   ]
  },
  {
   "cell_type": "markdown",
   "id": "bf6d5640",
   "metadata": {},
   "source": [
    "Transfer learning with entire dataset including BP-absent Images"
   ]
  },
  {
   "cell_type": "code",
   "execution_count": null,
   "id": "fde8cd88",
   "metadata": {},
   "outputs": [],
   "source": [
    "ipy = get_ipython()\n",
    "ipy.magic('matplotlib inline')\n",
    "TrainSegmentation('./trainingConfig_BPabsent.json',device = 'cuda:0',\n",
    "                  xferLearn=True,continueTrain=False,\n",
    "                  dice_bg_weight=0.5)"
   ]
  },
  {
   "cell_type": "markdown",
   "id": "14f47655",
   "metadata": {},
   "source": [
    "Test Segmentation"
   ]
  },
  {
   "cell_type": "code",
   "execution_count": null,
   "id": "1b8f2415",
   "metadata": {},
   "outputs": [],
   "source": [
    "state_base_name = 'state_lr_0.001'\n",
    "output_dir = 'output_moreBPabsent'#\n",
    "epoch = 'best'\n",
    "state_base_name = 'stateXfer_lr_0.0005'\n",
    "TestSegmentation('./trainingConfig_BPabsent.json',\n",
    "                  f'./{output_dir}/{state_base_name}_Epoch_{epoch}.pth.tar', \n",
    "                  f'./{output_dir}/result_test_data',\n",
    "                  save_name= f'test_epoch_{epoch}_thresh',\n",
    "                  device='cpu',\n",
    "                  data_type=2, empty_thresh=5000)"
   ]
  },
  {
   "cell_type": "markdown",
   "id": "c5a4abb2",
   "metadata": {},
   "source": [
    "Train Classification"
   ]
  },
  {
   "cell_type": "code",
   "execution_count": null,
   "id": "35a95ce1",
   "metadata": {},
   "outputs": [],
   "source": [
    "ipy = get_ipython()\n",
    "ipy.magic('matplotlib inline')\n",
    "TrainClassification('./trainingConfig_classification.json',device = 'cuda:0',\n",
    "                    save_frequency=1,continueTrain=True)"
   ]
  },
  {
   "cell_type": "markdown",
   "id": "c846d404",
   "metadata": {},
   "source": [
    "Test Classification"
   ]
  },
  {
   "cell_type": "code",
   "execution_count": null,
   "id": "5840de2e",
   "metadata": {},
   "outputs": [],
   "source": [
    "output_dir = 'output_classification(new)'\n",
    "epoch ='best'\n",
    "state_base_name = 'state_lr_0.001'\n",
    "cutoff = 0\n",
    "TestClassification('./trainingConfig_classification.json',\n",
    "                  f'./{output_dir}/{state_base_name}_Epoch_{epoch}.pth.tar', \n",
    "                  f'./{output_dir}/result_test_data',\n",
    "                  save_name= f'test_epoch_{epoch}_cutoff_{cutoff}',\n",
    "                  device='cpu',\n",
    "                  data_type=2, cutoff=cutoff)"
   ]
  },
  {
   "cell_type": "markdown",
   "id": "2a69ac90",
   "metadata": {},
   "source": [
    "Generate Submission"
   ]
  },
  {
   "cell_type": "code",
   "execution_count": null,
   "id": "e7f5dcf3",
   "metadata": {},
   "outputs": [],
   "source": [
    "ipy = get_ipython()\n",
    "ipy.magic('matplotlib inline')\n",
    "input_dir = './data/test'\n",
    "output_dir = './submission'\n",
    "submission_file_name = 'heyuan-5.csv'\n",
    "\n",
    "cls_output_dir = 'output_classification'\n",
    "cls_epoch ='best'\n",
    "cls_state_base_name = 'state_lr_0.001'\n",
    "cls_config_file = './trainingConfig_classification.json'\n",
    "cls_net_state_dir = f'./{cls_output_dir}/{cls_state_base_name}_Epoch_{cls_epoch}.pth.tar'\n",
    "\n",
    "seg_output_dir = 'output_moreBPabsent'\n",
    "seg_epoch = 'best'\n",
    "seg_state_base_name = 'stateXfer_lr_0.0005'\n",
    "seg_config_file = './trainingConfig_BPabsent.json'\n",
    "seg_net_state_dir = f'./{seg_output_dir}/{seg_state_base_name}_Epoch_{seg_epoch}.pth.tar'\n",
    "\n",
    "CreateSubmission(input_dir, output_dir, submission_file_name, \n",
    "                 seg_config_file, seg_net_state_dir, \n",
    "                 cls_config_file, cls_net_state_dir,\n",
    "                 seg_pixel_cutoff=5000,\n",
    "                 cls_cutoff=-10,\n",
    "                 device = 'cuda:0'\n",
    "                 )"
   ]
  }
 ],
 "metadata": {
  "kernelspec": {
   "display_name": "Python 3 (ipykernel)",
   "language": "python",
   "name": "python3"
  },
  "language_info": {
   "codemirror_mode": {
    "name": "ipython",
    "version": 3
   },
   "file_extension": ".py",
   "mimetype": "text/x-python",
   "name": "python",
   "nbconvert_exporter": "python",
   "pygments_lexer": "ipython3",
   "version": "3.9.12"
  }
 },
 "nbformat": 4,
 "nbformat_minor": 5
}
